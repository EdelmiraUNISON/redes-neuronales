{
 "cells": [
  {
   "cell_type": "markdown",
   "metadata": {},
   "source": [
    "![Universidad de Sonora](http://www.identidadbuho.uson.mx/assets/letragrama-rgb-72.jpg)\n",
    "## Ciencias de la Computación\n",
    "### [Curso de Redes Neuronales](https://curso-redes-neuronales-unison.github.io/Temario/)\n",
    "\n",
    "# Una sola unidad *softmax*\n",
    "\n",
    "[**Julio Waissman Vilanova**](http://mat.uson.mx/~juliowaissman/), 6 de septiembre de 2017.\n",
    "\n",
    "En esta libreta vamos a revisar los aspectos básicos del aprendizaje para una unidad *softmax* de $K$ salidas, sin capas ocultas y usando el criterio de pérdida de entropia en varias clases. El algoritmo es sencillo pero es importante entenderlo bien antes de pasar a cosas más complicadas.\n",
    "\n",
    "Empecemos por inicializar los modulos que vamos a requerir."
   ]
  },
  {
   "cell_type": "code",
   "execution_count": 25,
   "metadata": {
    "collapsed": true
   },
   "outputs": [],
   "source": [
    "#bloque 1\n",
    "\n",
    "%matplotlib inline\n",
    "import numpy as np\n",
    "import matplotlib.pyplot as plt\n",
    "from scipy.optimize import minimize\n",
    "from IPython.display import Image  # Esto es para desplegar imágenes en la libreta"
   ]
  },
  {
   "cell_type": "markdown",
   "metadata": {},
   "source": [
    "## 1. La base de datos a utilizar"
   ]
  },
  {
   "cell_type": "markdown",
   "metadata": {},
   "source": [
    "La unidad *softmax* es el último de los tipos básicos de neuronas de salida que revisaremos. Para ejemplificar su uso, vamos a utilizar una base de datos bastante común, MNIST. MNIST es una base de datos de dígitos escritos a mano, en formato de $20 \\times 20$ pixeles. La base completa puede obtenerse en la página de Yan LeCun (http://yann.lecun.com/exdb/mnist/).\n",
    "\n",
    "Nosotros en realidad vamos a utilizar una base de datos reducida de la original y con imágenes de calidad más reducida ($16 \\times 16$ pixeles por imagen). Numpy provée un método para guardad objetos tipo numpy en un solo archivo, utilizando el método de compresión *gunzip*. Los datos ya se encuentran preprocesados y empaquetados en un archivo llamado `digitos.npz`. "
   ]
  },
  {
   "cell_type": "code",
   "execution_count": 26,
   "metadata": {},
   "outputs": [
    {
     "name": "stdout",
     "output_type": "stream",
     "text": [
      "Las llaves del diccionario son: \n",
      "['X_valida', 'X_entrena', 'T_valida', 'T_entrena']\n"
     ]
    }
   ],
   "source": [
    "#bloque 2\n",
    "\n",
    "data = np.load(\"datos/digitos.npz\")\n",
    "\n",
    "print(\"Las llaves del diccionario son: \\n{}\".format(data.keys()))"
   ]
  },
  {
   "cell_type": "markdown",
   "metadata": {},
   "source": [
    "En este caso, `data` es un objeto contenedor de numpy cuyas llaves son `X_valida`, `X_entrena`, `T_valida`, `T_entrena`. Cada una de estas son a su vez objetos tipo ndarray de numpy, los cuales contienen valores de entrada y salida, tanto para entrenamiento como para validación. No se preocupen, esto de entrenamiento y validación lo vamos a ver más adelante en la clase.\n",
    "\n",
    "Cada renglón de x es una imagen *desenrrollada*, esto es, los 256 datos de una imágen de $16 \\times 16$ pixeles. Por otra parte, cada renglón de y es un vector de 10 posiciones, donde todos los valores son ceros, salvo uno, que es el que define la clase de la imagen.\n",
    "\n",
    "Para darse una mejor idea, ejecuta el siguiente script varias veces."
   ]
  },
  {
   "cell_type": "code",
   "execution_count": 27,
   "metadata": {},
   "outputs": [
    {
     "name": "stdout",
     "output_type": "stream",
     "text": [
      "-- x es de dimensiones (9000, 256)\n",
      "-- y es de dimensiones (9000, 10)\n",
      "\n",
      "y si escogemos la imagen 6812 veremos\n"
     ]
    },
    {
     "data": {
      "image/png": "[encoded data removed]",
      "text/plain": [
       "<matplotlib.figure.Figure at 0x1d406789d68>"
      ]
     },
     "metadata": {},
     "output_type": "display_data"
    },
    {
     "name": "stdout",
     "output_type": "stream",
     "text": [
      "la cual es un 2\n",
      "\n",
      "\n",
      "Y si miramos lo que contiene, veremos que\n",
      "x[a,:] = \n",
      "[ 0.12941177  0.67450982  0.83137262  0.83137262  0.83137262  0.83137262\n",
      "  0.79215693  0.6156863   0.44313729  0.21176472  0.          0.          0.\n",
      "  0.          0.          0.          0.27450982  0.30588236  0.19215688\n",
      "  0.19215688  0.19215688  0.19215688  0.227451    0.44705886  0.70980394\n",
      "  0.97254908  0.76078439  0.28235295  0.          0.          0.          0.\n",
      "  0.          0.          0.          0.          0.          0.          0.\n",
      "  0.          0.          0.09803922  0.55686277  0.98039222  0.49019611\n",
      "  0.00784314  0.          0.          0.          0.          0.          0.\n",
      "  0.          0.          0.          0.          0.          0.          0.\n",
      "  0.41568631  0.99215692  0.50980395  0.          0.          0.          0.\n",
      "  0.          0.          0.          0.          0.          0.          0.\n",
      "  0.          0.          0.          0.38039219  0.98039222  0.33725491\n",
      "  0.          0.          0.          0.          0.          0.          0.\n",
      "  0.          0.          0.          0.          0.          0.          0.\n",
      "  0.78823537  0.93725497  0.02352941  0.          0.          0.          0.\n",
      "  0.          0.          0.          0.          0.          0.          0.\n",
      "  0.          0.          0.50980395  1.          0.25882354  0.          0.\n",
      "  0.          0.          0.          0.          0.          0.          0.\n",
      "  0.          0.          0.          0.          0.43921572  1.\n",
      "  0.25882354  0.          0.          0.          0.          0.          0.\n",
      "  0.          0.          0.          0.          0.          0.          0.\n",
      "  0.55686277  1.          0.13725491  0.          0.          0.          0.\n",
      "  0.          0.          0.          0.          0.          0.          0.\n",
      "  0.          0.08235294  0.89803928  0.7019608   0.00392157  0.          0.\n",
      "  0.          0.20000002  0.64705884  0.78823537  0.78823537  0.66274512\n",
      "  0.227451    0.          0.          0.0627451   0.81960791  0.88627458\n",
      "  0.1254902   0.          0.          0.          0.          0.42352945\n",
      "  0.45490199  0.23137257  0.30980393  0.75686282  0.99607849  0.68627453\n",
      "  0.1137255   0.7019608   0.93725497  0.25098041  0.          0.\n",
      "  0.00784314  0.52549022  0.38823533  0.          0.          0.          0.\n",
      "  0.01960784  0.35686275  0.96470594  0.98039222  0.92941183  0.18823531\n",
      "  0.16862746  0.56862748  0.48235297  0.38431376  1.          0.32941177\n",
      "  0.          0.          0.          0.01176471  0.25882354  0.78039223\n",
      "  0.99607849  0.98039222  0.93725497  0.75294125  0.83921576  0.33333334\n",
      "  0.02745098  0.42745101  1.          0.2392157   0.02352941  0.00392157\n",
      "  0.51764709  0.85098046  0.89803928  0.57647061  0.14901961  0.13333334\n",
      "  0.43921572  0.24313727  0.00784314  0.          0.          0.09803922\n",
      "  0.78823537  0.82352948  0.72156864  0.61176473  0.57647061  0.32941177\n",
      "  0.03921569  0.          0.          0.          0.          0.          0.\n",
      "  0.          0.        ]\n",
      "y[a,:] = \n",
      "[ 0.  0.  1.  0.  0.  0.  0.  0.  0.  0.]\n"
     ]
    }
   ],
   "source": [
    "#bloque 3\n",
    "\n",
    "x = data['X_entrena']\n",
    "y = data['T_entrena']\n",
    "\n",
    "a = np.random.randint(0, y.shape[0]) # selecciona al azar un número entero entre 0 y el número de imagenes (9000)-1\n",
    "\n",
    "print(\"-- x es de dimensiones {}\".format(x.shape))\n",
    "print(\"-- y es de dimensiones {}\".format(y.shape))\n",
    "\n",
    "print(\"\\ny si escogemos la imagen {} veremos\".format(a))\n",
    "\n",
    "plt.imshow(x[a,:].reshape(16,16), cmap=plt.gray())\n",
    "plt.axis('off')\n",
    "plt.show()\n",
    "\n",
    "print(\"la cual es un {}\".format(list(y[a,:]).index(1)))\n",
    "\n",
    "print(\"\\n\\nY si miramos lo que contiene, veremos que\")\n",
    "print(\"x[a,:] = \\n{}\\ny[a,:] = \\n{}\".format(x[a,:], y[a,:]))\n"
   ]
  },
  {
   "cell_type": "markdown",
   "metadata": {},
   "source": [
    "O bien, ejecuta este script para ver un grupo grande de imágenes."
   ]
  },
  {
   "cell_type": "code",
   "execution_count": 28,
   "metadata": {},
   "outputs": [
    {
     "data": {
      "text/plain": [
       "<matplotlib.text.Text at 0x1d40338bda0>"
      ]
     },
     "execution_count": 28,
     "metadata": {},
     "output_type": "execute_result"
    },
    {
     "data": {
      "image/png": "[encoded data removed]",
      "text/plain": [
       "<matplotlib.figure.Figure at 0x1d4066d3f28>"
      ]
     },
     "metadata": {},
     "output_type": "display_data"
    }
   ],
   "source": [
    "#bloque 4\n",
    "\n",
    "indices = np.arange(y.shape[0])\n",
    "np.random.shuffle(indices)\n",
    "ind = indices[0:100].reshape(10,10)\n",
    "\n",
    "imagen = np.ones((10 * 16 + 4*11, 10 * 16 + 4*11))\n",
    "for i in range(10):\n",
    "    for j in range(10):\n",
    "        imagen[4 + i * 20: 20 + i * 20, 4 + j * 20: 20 + j * 20] = x[ind[i, j], :].reshape(16,16)\n",
    "        \n",
    "plt.imshow(imagen, cmap=plt.gray())\n",
    "plt.axis('off')\n",
    "plt.title(u\"Ejemplos aleatorios de imágenes a clasificar\")\n"
   ]
  },
  {
   "cell_type": "markdown",
   "metadata": {},
   "source": [
    "Por último, vamos a hacer una función que agregue la columna de 1's para la x extendida, y simplificar más adelante su uso."
   ]
  },
  {
   "cell_type": "code",
   "execution_count": 29,
   "metadata": {
    "collapsed": true
   },
   "outputs": [],
   "source": [
    "#bloque 5\n",
    "\n",
    "def extendida(x):\n",
    "    \"\"\"\n",
    "    Agrega una columna de unos a x\n",
    "    \n",
    "    \"\"\"\n",
    "    return np.c_[np.ones((x.shape[0], 1)), x]"
   ]
  },
  {
   "cell_type": "markdown",
   "metadata": {},
   "source": [
    "## 2. Unidad *softmax*"
   ]
  },
  {
   "cell_type": "markdown",
   "metadata": {},
   "source": [
    "En una unidad *softmax*, en lugar de estimar solamente un vector de parámetros, el valor de salida lo descomponemos en $K$ vectores de salida con valores de 1 (si pertenece a esa clase) o cero (si no pertenece). A esto se le conoce como *dummy variable*. En el ejemplo que tenemos, las clases ya se encuentran de esa forma (por eso la salida es un vector de dimensión 10 donde solo uno es 1 y todos los demás valores son 0).  \n",
    "\n",
    "El problema de aprendizaje para una unidad *softmax* es estimar una matriz de parámetros $\\omega$ tal que:\n",
    "\n",
    "$$\n",
    "\\omega = (\\omega^{(1)}, \\ldots, \\omega^{(K)}) \n",
    "$$\n",
    "\n",
    "donde $\\omega^{(k)} = (\\omega_0^{(k)}, \\ldots, \\omega_n^{(k)})^T$ es el vector columna que parametriza la clase $k$. De esta manera, $\\omega$ es ahora una matriz de dimensión $(n+1) \\times K$. El aporte lineal a cada clase de un objeto $x^{(i)}$ está dado por\n",
    "\n",
    "$$\n",
    "z^{(i)} = \\omega^T x^{(i)},\n",
    "$$\n",
    "\n",
    "el cual es de dimensión $K \\times 1$ (un valor por cada clase). La probabilidad de pertenecer a la clase $k$ respecto al resto de las clases está dada por:\n",
    "\n",
    "$$\n",
    "\\hat{y}_k^{(i)} = softmax(z^{(i)}, k) = \\frac{\\exp(z_k^{(i)})}{\\sum_{j=1}^K \\exp(z_j^{(i)})}.\n",
    "$$\n"
   ]
  },
  {
   "cell_type": "markdown",
   "metadata": {},
   "source": [
    "#### Ejercicio 1. Con esta información, realiza la función *softmax*, de manera que si recibe un ndarray de dimensiones $ T \\times K$ con $T$ vectores, regrese la matriz de mismas dimensiones con el cálculo *logistica* para cada matriz."
   ]
  },
  {
   "cell_type": "code",
   "execution_count": 32,
   "metadata": {
    "collapsed": true
   },
   "outputs": [],
   "source": [
    "#bloque 6\n",
    "def softmax(z):\n",
    "    \"\"\"\n",
    "    Calculo de la regresión softmax\n",
    "    \n",
    "    @param z: ndarray de dimensión (T, K) donde z[i, :] es el vector de aportes lineales del objeto i\n",
    "    \n",
    "    @return: un ndarray de dimensión (T, K) donde cada columna es el calculo softmax de su respectivo vector de entrada.\n",
    "    \n",
    "    \"\"\"\n",
    "    #--------------------------------------------------------------------------------\n",
    "    # AGREGA AQUI TU CÓDIGO\n",
    "    #--------------------------------------------------------------------------------\n",
    "    #T,K = z.shape[0],z.shape[1]\n",
    "    # print(\"(softmax) z=\",z.shape)\n",
    "    #y_est = np.zeros((z.shape))\n",
    "    #for i in range(T):\n",
    "    #    temp = 0    \n",
    "    #    for j in range(K):\n",
    "    #        temp = temp + np.exp(z[i,j])\n",
    "    #    \n",
    "    #    y_est[i,:] = np.exp(z[i,:])/temp\n",
    "    y_est = np.exp(z)       \n",
    "    return y_est / y_est.sum(axis=1).reshape(-1,1)\n",
    "    #return y/y.mean(axis=0)"
   ]
  },
  {
   "cell_type": "markdown",
   "metadata": {},
   "source": [
    "Y ahora es necesario implementar la función de pérdida, la cual es la suma de las pérdidas logarítmicas por cada salida de las k regresiones logísticas, la cual puede resumirse como:\n",
    "\n",
    "$$\n",
    "Loss(y, \\hat{y}) = -\\frac{1}{T}\\sum_{i=1}^T \\sum_{k=1}^K y_k^{(i)} \\log(\\hat{y}_k^{(i)}),\n",
    "$$\n",
    "\n",
    "donde $y_k^{(i)}$ es un valor de 0 o 1 dependiendo si el objeto $i$ pertenece a la clase $k$ o no, mientras que $\\hat{y}_k^{(i)}$ es la probabilidad que el objeto $i$ pertenezca a la clase $k$ conociendo $x^{(i)}$ y parametrizado por $\\omega$, \n",
    "$$\n",
    "\\hat{y}^{(i)} = \\Pr(y^{(i)} = k \\ |\\ x^{(i)}; \\omega).\n",
    "$$\n",
    "\n",
    "#### Ejercicio 2. Implementa la función de pérdida de manera relativamente eficiente, utilizando las facilidades que presenta numpy."
   ]
  },
  {
   "cell_type": "code",
   "execution_count": 33,
   "metadata": {},
   "outputs": [
    {
     "name": "stdout",
     "output_type": "stream",
     "text": [
      "pérdida =  0.0815493381572\n",
      "Pasó la prueba\n"
     ]
    }
   ],
   "source": [
    "#bloque 7\n",
    "\n",
    "def perdida(w, x, y):\n",
    "    \"\"\"\n",
    "    Calcula el costo para la regresión softmax parametrizada por theta, con el conjunto de datos dado por (x, y)    \n",
    "    @param w: ndarray de dimensión (n+1, K) con los parámetros\n",
    "    @param x: ndarray de dimensión (T, n+1) con los datos\n",
    "    @param y: ndarray de dimensión (T, K) con la clase por cada dato    \n",
    "    @return: Un valor flotante    \n",
    "    \"\"\"\n",
    "    T, K = y.shape\n",
    "    n = x.shape[1] - 1    \n",
    "    #--------------------------------------------------------------------------------\n",
    "    # AGREGA AQUI TU CÓDIGO\n",
    "    #--------------------------------------------------------------------------------\n",
    "    #z = x.dot(w)\n",
    "    #y_est = softmax(z)\n",
    "    #aux = 0\n",
    "    #for i in range(T):        \n",
    "    #    for k in range(K):            \n",
    "    #        aux = aux + y[i,k]*np.log(y_est[i,k])\n",
    "    #return -aux/T\n",
    "    z = x.dot(w)\n",
    "    y_est = softmax(z)\n",
    "    return -np.sum(np.log(y_est[np.where(y==1)]))/T\n",
    "####################################################################################\n",
    "def test_perdida():\n",
    "    x = np.array([[1, 0, 0], [1, 0, 1], [1, 1, 0], [1, 1, 1]])\n",
    "    y = np.eye(4)\n",
    "    w = np.array([[3, -4, -4],[-1, -1, 3], [.01, 3, -10], [-5, 5, 5]]).T\n",
    "    print(\"pérdida = \",perdida(w,x,y))\n",
    "    assert perdida(w, x, y) < 0.1\n",
    "    return \"Pasó la prueba\"    \n",
    "###################################################################################\n",
    "print(test_perdida())"
   ]
  },
  {
   "cell_type": "markdown",
   "metadata": {},
   "source": [
    "#### Ejercicio 3. Implementa la función para predecir el valor de $\\hat{y}$ estimada."
   ]
  },
  {
   "cell_type": "code",
   "execution_count": 34,
   "metadata": {},
   "outputs": [
    {
     "name": "stdout",
     "output_type": "stream",
     "text": [
      "abs((y - predice(w, x)).sum())= 0.0\n",
      "Pasó la prueba\n"
     ]
    }
   ],
   "source": [
    "#bloque 8\n",
    "\n",
    "def predice(w, x):\n",
    "    \"\"\"\n",
    "    Prediccion de y_hat a partir de la matriz omega para los valores de x\n",
    "    \n",
    "    @param w: ndarray de dimensión (n+1, K) con los parámetros\n",
    "    @param x: ndarray de dimensión (T, n+1) con los datos\n",
    "\n",
    "    @return: ndarray de dimensión (T, K) con la clase predecida por cada dato (unos y ceros)\n",
    "    \n",
    "    \"\"\"\n",
    "    #--------------------------------------------------------------------------------\n",
    "    # AGREGA AQUI TU CÓDIGO\n",
    "    #--------------------------------------------------------------------------------\n",
    "    \n",
    "    Py = softmax(x.dot(w))\n",
    "    return np.where(Py == Py.max(axis=1), 1, 0) \n",
    "\n",
    "####################################################################################################\n",
    "def prueba_prediccion():\n",
    "    x = np.array([[1, 0, 0], [1, 0, 1], [1, 1, 0], [1, 1, 1]])\n",
    "    y = np.eye(4)\n",
    "\n",
    "    w = np.array([[3, -4, -4],[-1, -1, 3], [.01, 3, -10], [-5, 5, 5]]).T\n",
    "    print('abs((y - predice(w, x)).sum())=',abs((y - predice(w, x)).sum()))\n",
    "    assert abs((y - predice(w, x)).sum()) < 1e-12 \n",
    "    return(\"Pasó la prueba\")\n",
    "####################################################################################################\n",
    "print(prueba_prediccion())"
   ]
  },
  {
   "cell_type": "markdown",
   "metadata": {},
   "source": [
    "Y por último tenemos que implementar el gradiente para poder utilizar los métodos de optimización (ya sea por descenso de gradiente o por algún método de optimización.\n",
    "\n",
    "El gradiente se obtiene a partir de las derivadas parciales:\n",
    "\n",
    "$$\n",
    "\\frac{\\partial Loss(y, \\hat{y})}{\\partial \\omega_j^{(k)}} = - \\frac{1}{T} \\sum_{i = 1}^T \\left(y_k^{(i)} -   \\hat{y}_k^{i}\\right) x_j^{(i)},\n",
    "$$\n",
    "\n",
    "Esto se puede resolver en forma matricial como\n",
    "\n",
    "$$\n",
    "\\nabla_\\omega Loss(y, \\hat{y}) = - \\frac{1}{T} X^T (Y - \\hat{Y})\n",
    "$$\n",
    "\n",
    "#### Ejercicio 4. Implementa el gradiente de la manera que menos se dificulte."
   ]
  },
  {
   "cell_type": "code",
   "execution_count": 35,
   "metadata": {},
   "outputs": [
    {
     "name": "stdout",
     "output_type": "stream",
     "text": [
      "g= [[ -1.38890477e-03  -2.87198135e-02  -5.48222482e-03   3.55909431e-02]\n",
      " [  4.23176327e-03   6.04900322e-03  -1.72446023e-02   6.96383579e-03]\n",
      " [  1.05136068e-02  -3.45560964e-02   2.83264084e-06   2.40396569e-02]]\n",
      "\n",
      " np.abs(g).max()= 0.0355909430876\n",
      "Pasó la prueba\n"
     ]
    }
   ],
   "source": [
    "#bloque 9\n",
    "\n",
    "def gradiente(w, X, Y):\n",
    "    \"\"\"\n",
    "    Calculo del gradiente para el problema de regresión softmax\n",
    "    \n",
    "    @param w: ndarray de dimensión (n+1, K) con los parámetros\n",
    "    @param X: ndarray de dimensión (T, n+1) con los datos\n",
    "    @param Y: ndarray de dimensión (T, K) con la clase por cada dato\n",
    "    \n",
    "    @return: Un ndarray de mismas dimensiones que theta\n",
    "    \n",
    "    \"\"\"\n",
    "    #--------------------------------------------------------------------------------\n",
    "    # AGREGA AQUI TU CÓDIGO\n",
    "    #--------------------------------------------------------------------------------\n",
    "    T = X.shape[0]\n",
    "    y_est = softmax(X.dot(w))    \n",
    "    \n",
    "    return -X.T.dot( Y - y_est )/T #np.where(y_est == y_est.max(axis=0), y-y_est, 0))/T \n",
    "      \n",
    "#--------------------------------------------------------------------------------\n",
    "def prueba_gradiente():\n",
    "    X = np.array([[1, 0, 0], [1, 0, 1], [1, 1, 0], [1, 1, 1]])\n",
    "    Y = np.eye(4)\n",
    "    w = np.array([[3, -4, -4],[-1, -1, 3], [.01, 3, -10], [-5, 5, 5]]).T\n",
    "    \n",
    "    g = gradiente(w,X,Y)\n",
    "    print('g=',g)\n",
    "    print('\\n np.abs(g).max()=',np.abs(g).max())\n",
    "\n",
    "    assert np.abs(g).max() < 0.05\n",
    "    return \"Pasó la prueba\"\n",
    "#--------------------------------------------------------------------------------\n",
    "print(prueba_gradiente())    "
   ]
  },
  {
   "cell_type": "markdown",
   "metadata": {},
   "source": [
    "Ahora si, ya nos encontramos en capacidad para realizar el aprendizaje en una unidad softmax.\n",
    "\n",
    "#### Ejercicio 5. Implementa la regresión logística utilizando el método de descenso de gradiente. Utiliza el método de aprendizaje programado para la neurona logistica y completa los comentarios de la función de forma que quede bien documentada."
   ]
  },
  {
   "cell_type": "code",
   "execution_count": 41,
   "metadata": {
    "collapsed": true
   },
   "outputs": [],
   "source": [
    "#bloque 10\n",
    "\n",
    "def dg_softmax(w, x, y, epsilon, max_epoch=1000, tol=0.001, errores=True):\n",
    "    \"\"\"\n",
    "    Descenso de gradiente por lotes para la clasificación softmax\n",
    "    \n",
    "    AGREGA AQUI LA DOCUMENTACIÓN\n",
    "    @param x: ndarray de dimension [T, n + 1] con los datos de entrada\n",
    "    @param y: ndarray de dimension [T, 1] con los datos de salida\n",
    "    @param w_ini: ndarray de dimension [n + 1, T] con los parámetros iniciales\n",
    "    @param epsilon: flotante con tamaño de paso o tasa de aprendizaje.\n",
    "    @param max_epoch: número maximo de épocas que durará el entrenamiento\n",
    "    @param tol: flotante que ayuda a terminar el ciclo antes del numero de iteraciones dado\n",
    "    @param errores: logico, indica si se van a guardar los errores obtenidos en cada epoch \n",
    "    \n",
    "    @return: w, historial donde w es un ndarray de la dimensión de w_ini con la w final, \n",
    "             mientras que historial es un ndarray de dimensión [num_iter, 1] con el costo en cada iteración.\n",
    "    \"\"\"\n",
    "    #historial = [] if errores else None\n",
    "    \n",
    "    #w = w_ini.copy()\n",
    "    #for epoch in range(max_epoch):\n",
    "    #    inc_w = gradiente(w, x, y)\n",
    "    #    if inc_w.max() < tol:\n",
    "    #        break\n",
    "    #    w += epsilon * inc_w\n",
    "    #    historial.append(perdida(w,x,y))\n",
    "    #return w, historial  \n",
    "    \n",
    "    historial = np.zeros((max_epoch)) if errores else None\n",
    "        \n",
    "    for epoch in range(max_epoch):\n",
    "        #--------------------------------------------------------------------------------\n",
    "        # AGREGA AQUI TU CÓDIGO\n",
    "        #--------------------------------------------------------------------------------\n",
    "        \n",
    "        Z=x.dot(w)\n",
    "        y_est=softmax(Z)\n",
    "        N=x.shape[0]\n",
    "        w+=(epsilon/N)*(x.T.dot((y-y_est)*y))\n",
    "\n",
    "        if errores:\n",
    "            historial[epoch] = perdida(w, x, y)\n",
    "        #--------------------------------------------------------------------------------\n",
    "        \n",
    "    return w, historial\n",
    "    \n",
    "    "
   ]
  },
  {
   "cell_type": "markdown",
   "metadata": {},
   "source": [
    "Pero para utilizar el descenso de gradiente hay que ajustar un valor de $\\epsilon$."
   ]
  },
  {
   "cell_type": "code",
   "execution_count": 42,
   "metadata": {},
   "outputs": [
    {
     "data": {
      "text/plain": [
       "[<matplotlib.lines.Line2D at 0x1d406770fd0>]"
      ]
     },
     "execution_count": 42,
     "metadata": {},
     "output_type": "execute_result"
    },
    {
     "data": {
      "image/png": "[encoded data removed]",
      "text/plain": [
       "<matplotlib.figure.Figure at 0x1d4033cfa20>"
      ]
     },
     "metadata": {},
     "output_type": "display_data"
    }
   ],
   "source": [
    "#bloque 11\n",
    "\n",
    "# Ajusta un valor de epsilon razonable\n",
    "\n",
    "epsilon_prueba = 0.9\n",
    "\n",
    "T, K = y.shape\n",
    "n = x.shape[1]\n",
    "\n",
    "w = 0.1 * (np.random.random((n + 1, K)) - 0.5)\n",
    "w, loss_hist = dg_softmax(w, extendida(x), y, epsilon=epsilon_prueba, max_epoch=100,tol=1e-1, errores=True)\n",
    "plt.plot(loss_hist)\n",
    "\n"
   ]
  },
  {
   "cell_type": "markdown",
   "metadata": {},
   "source": [
    "y para probarlo vamos a aprender a clasificar a los dígitos de nuestra base de datos\n"
   ]
  },
  {
   "cell_type": "code",
   "execution_count": 48,
   "metadata": {},
   "outputs": [
    {
     "name": "stdout",
     "output_type": "stream",
     "text": [
      "El costo de la solución final es de 0.49659694422624945\n"
     ]
    },
    {
     "name": "stderr",
     "output_type": "stream",
     "text": [
      "C:\\Users\\Edelmira\\Anaconda3\\lib\\site-packages\\ipykernel_launcher.py:18: DeprecationWarning: elementwise == comparison failed; this will raise an error in the future.\n"
     ]
    },
    {
     "ename": "AxisError",
     "evalue": "axis 1 is out of bounds for array of dimension 1",
     "output_type": "error",
     "traceback": [
      "\u001b[1;31m---------------------------------------------------------------------------\u001b[0m",
      "\u001b[1;31mAxisError\u001b[0m                                 Traceback (most recent call last)",
      "\u001b[1;32m<ipython-input-48-360e46a435a8>\u001b[0m in \u001b[0;36m<module>\u001b[1;34m()\u001b[0m\n\u001b[0;32m      7\u001b[0m \u001b[1;33m\u001b[0m\u001b[0m\n\u001b[0;32m      8\u001b[0m \u001b[0my_estimada\u001b[0m \u001b[1;33m=\u001b[0m \u001b[0mpredice\u001b[0m\u001b[1;33m(\u001b[0m\u001b[0mw\u001b[0m\u001b[1;33m,\u001b[0m \u001b[0mextendida\u001b[0m\u001b[1;33m(\u001b[0m\u001b[0mx\u001b[0m\u001b[1;33m)\u001b[0m\u001b[1;33m)\u001b[0m\u001b[1;33m\u001b[0m\u001b[0m\n\u001b[1;32m----> 9\u001b[1;33m \u001b[0merrores\u001b[0m \u001b[1;33m=\u001b[0m \u001b[0mnp\u001b[0m\u001b[1;33m.\u001b[0m\u001b[0mwhere\u001b[0m\u001b[1;33m(\u001b[0m\u001b[0my\u001b[0m\u001b[1;33m.\u001b[0m\u001b[0margmax\u001b[0m\u001b[1;33m(\u001b[0m\u001b[0maxis\u001b[0m\u001b[1;33m=\u001b[0m\u001b[1;36m1\u001b[0m\u001b[1;33m)\u001b[0m \u001b[1;33m==\u001b[0m \u001b[0my_estimada\u001b[0m\u001b[1;33m.\u001b[0m\u001b[0margmax\u001b[0m\u001b[1;33m(\u001b[0m\u001b[0maxis\u001b[0m\u001b[1;33m=\u001b[0m\u001b[1;36m1\u001b[0m\u001b[1;33m)\u001b[0m\u001b[1;33m,\u001b[0m \u001b[1;36m0\u001b[0m\u001b[1;33m,\u001b[0m \u001b[1;36m1\u001b[0m\u001b[1;33m)\u001b[0m\u001b[1;33m\u001b[0m\u001b[0m\n\u001b[0m\u001b[0;32m     10\u001b[0m \u001b[1;31m#errores = np.abs(y - y_estimada).sum()/2\u001b[0m\u001b[1;33m\u001b[0m\u001b[1;33m\u001b[0m\u001b[0m\n\u001b[0;32m     11\u001b[0m \u001b[0mprint\u001b[0m\u001b[1;33m(\u001b[0m\u001b[0merrores\u001b[0m\u001b[1;33m)\u001b[0m\u001b[1;33m\u001b[0m\u001b[0m\n",
      "\u001b[1;31mAxisError\u001b[0m: axis 1 is out of bounds for array of dimension 1"
     ]
    }
   ],
   "source": [
    "#bloque 12\n",
    "\n",
    "w = 0.1 * (np.random.random((n + 1, K)) - 0.5)\n",
    "w, e_hist = dg_softmax(w, extendida(x), y, epsilon_prueba, max_epoch=1000)\n",
    "\n",
    "print(\"El costo de la solución final es de {}\".format(perdida(w, extendida(x), y)))\n",
    "\n",
    "y_estimada = predice(w, extendida(x))\n",
    "errores = np.where(y.argmax(axis=1) == y_estimada.argmax(axis=1), 0, 1)\n",
    "#errores = np.abs(y - y_estimada).sum()/2\n",
    "print(errores)\n",
    "print(\"\\nLos datos utilizados para el aprendizaje mal clasificados son el {}%\".format(errores.mean()))\n",
    "\n",
    "# Esto solo es para hacerla más emocionante\n",
    "x_test = data['X_valida']\n",
    "y_test = data['T_valida']\n",
    "y_estimada_T = predice(w, extendida(x_test))\n",
    "#errores = np.abs(y_test - y_estimada_T).sum()/2\n",
    "errores = np.where(y_test.argmax(axis=1) == y_estimada_T.argmax(axis=1), 0, 1)\n",
    "\n",
    "print(\"\\nY con los datos de prueba el error es del {}%\".format(100*errores.mean()))\n",
    "\n"
   ]
  },
  {
   "cell_type": "markdown",
   "metadata": {},
   "source": [
    "¿Será esta la mejor solución? ¿Será una buena solución? Por esto no hay que preocuparse mucho todavía, lo vamos a revisar más adelante en el curso. Se espera con la unidad *softmax* poder clasificar correctamente más del 95% de los datos de entrenamiento. "
   ]
  },
  {
   "cell_type": "code",
   "execution_count": null,
   "metadata": {
    "collapsed": true
   },
   "outputs": [],
   "source": []
  },
  {
   "cell_type": "code",
   "execution_count": null,
   "metadata": {
    "collapsed": true
   },
   "outputs": [],
   "source": []
  },
  {
   "cell_type": "code",
   "execution_count": null,
   "metadata": {
    "collapsed": true
   },
   "outputs": [],
   "source": []
  }
 ],
 "metadata": {
  "kernelspec": {
   "display_name": "Python 3",
   "language": "python",
   "name": "python3"
  },
  "language_info": {
   "codemirror_mode": {
    "name": "ipython",
    "version": 3
   },
   "file_extension": ".py",
   "mimetype": "text/x-python",
   "name": "python",
   "nbconvert_exporter": "python",
   "pygments_lexer": "ipython3",
   "version": "3.6.1"
  }
 },
 "nbformat": 4,
 "nbformat_minor": 1
}
