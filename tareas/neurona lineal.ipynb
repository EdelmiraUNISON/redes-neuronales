{
 "cells": [
  {
   "cell_type": "markdown",
   "metadata": {},
   "source": [
    "![Universidad de Sonora](http://www.identidadbuho.uson.mx/assets/letragrama-rgb-72.jpg)\n",
    "## Ciencias de la Computación\n",
    "### [Curso de Redes Neuronales](https://curso-redes-neuronales-unison.github.io/Temario/)\n",
    "\n",
    "# Una sola neurona lineal\n",
    "\n",
    "[**Julio Waissman Vilanova**](http://mat.uson.mx/~juliowaissman/), 24 de agosto de 2017.\n",
    "\n",
    "En esta libreta vamos a revisar los aspectos básicos del aprendizaje para una sola neurona de salida lineal, sin capas ocultas y usando el criterio de pérdida MSE. El algoritmo es muy simple pero es importante tener claro lo que se requiere antes de pasar a cosas más complicadas.\n",
    "\n",
    "Empecemos por inicializar los modulos que vamos a requerir."
   ]
  },
  {
   "cell_type": "code",
   "execution_count": null,
   "metadata": {
    "collapsed": true
   },
   "outputs": [],
   "source": [
    "#bloque 1\n",
    "\n",
    "%matplotlib inline\n",
    "import numpy as np\n",
    "import matplotlib.pyplot as plt"
   ]
  },
  {
   "cell_type": "markdown",
   "metadata": {},
   "source": [
    "# 1. Un ejemplo en una sola dimensión"
   ]
  },
  {
   "cell_type": "markdown",
   "metadata": {},
   "source": [
    "Una función muy importante para poder realizar aprendizaje máquina es la capacidad de poder manejar, cargar y guardar datos. en esta libreta vamos a empezar con lo más básico: leer datos desde un archivo texto (o un archivo.cvs). Más adelante revisaremos como recoectar datos de internet, de archivos tipo excel o de bases de datos.\n",
    "\n",
    "*Numpy* cuenta con varios métodos para leer y guardar datos. La más utilizada para cargar datos provenientes de un archivo de texto es `loadtxt`. Para obtener la documentación de la función, simplemente ejecuta la celda siguiente: "
   ]
  },
  {
   "cell_type": "code",
   "execution_count": null,
   "metadata": {
    "collapsed": true
   },
   "outputs": [],
   "source": [
    "np.loadtxt?"
   ]
  },
  {
   "cell_type": "markdown",
   "metadata": {},
   "source": [
    "Es importante ver que esta función directamente carga los datos existentes en el archivo en un `ndarray`. ¿Y si tenemos uno o varios `ndarrays` con las cosas que hemos desarrollado y los queremos guardar en disco (por ejemplo el vector $\\omega$ de parámetros)? \n",
    "\n",
    "Vamos a abrir y a visualizar unos datos que se encuentran en el archivo `carretas.txt` (abrelos con un editor de texto si quieres ver el archivo original). En este archivo se tiene las ganancias anuales (en dolares) de unos tacos de carreta (bueno, su equivalente gringo) respecto al tamaño de la ciudad donde se encuentra la carreta. Estos datos provienen de el curso de *Machine learning* de *coursera* de *Andrew Ng*.\n"
   ]
  },
  {
   "cell_type": "code",
   "execution_count": null,
   "metadata": {},
   "outputs": [],
   "source": [
    "#bloque 2\n",
    "\n",
    "# Lee los datos en un nd array llamado datos\n",
    "datos = np.loadtxt('datos/carretas.txt', comments='%', delimiter=',')\n",
    "\n",
    "# Separa los datos de entrada de los de salida.\n",
    "# si decimos que x = datos[:,0], pues se toma solo una columna de datos,\n",
    "# por lo que x sería un ndarray de forma (shape) (96,). Al decir x = datos[:, 0:1] \n",
    "# significa que vamos a tomar todas las columnas de 0 a una antes de 1, por lo\n",
    "# que x tiene una forma (96, 1). Para nuestros intereses, es mejor manejar x xomo una matriz\n",
    "# de una sola columna que como un vector de una dimensión (igual para y).\n",
    "x, y = datos[:,0:1], datos[:,1:] \n",
    "\n",
    "\n",
    "# T es el número de instancias y n el de atributos\n",
    "T, n = x.shape\n",
    "\n",
    "plt.plot(x, y, 'rx')\n",
    "plt.title(u'Ganancias anuales de una carreta de acuerdo al tamaño de una ciudad')\n",
    "plt.xlabel(r\"Poblaci$\\'o$n ($\\times 10^4$ habitantes)\")\n",
    "plt.ylabel(r'Beneficios ($\\times 10^4$ dolares)')\n"
   ]
  },
  {
   "cell_type": "markdown",
   "metadata": {},
   "source": [
    "Listo, ya temos los datos. La hipótesis que hacemos es que el valor de salida lo podemos estimar como\n",
    "\n",
    "$$\n",
    "\\hat{y}^{(i)} = h_\\omega(x^{(i)}) = \\omega_0 + \\omega_1 x^{(i)}\n",
    "$$\n",
    "\n",
    "por lo que, para poder hacer el aprendizaje en forma eficiente, es necesario ajustar la matriz de datos de entrada (en este caso con una sola columna) agregándole una columna de puros unos. "
   ]
  },
  {
   "cell_type": "code",
   "execution_count": null,
   "metadata": {},
   "outputs": [],
   "source": [
    "#bloque 3\n",
    "\n",
    "x = np.c_[np.ones_like(x), x]\n",
    "#print(x)"
   ]
  },
  {
   "cell_type": "markdown",
   "metadata": {},
   "source": [
    "El criterio MSE como función de pérdida es el de minimizar el costo definido como\n",
    "$$\n",
    "Loss(y, \\hat{y}) = \\frac{1}{2T} \\sum_{i = 1}^T (y^{(i)} - \\hat{y}^{(i)})^2.\n",
    "$$\n",
    "\n",
    "Por lo tanto, para saber si estamos minimizando o no, debemos ser capaces de medir la función de pérdida. \n",
    "\n",
    "**Desarrolla la función de pérdida tal como se pide abajo**"
   ]
  },
  {
   "cell_type": "code",
   "execution_count": null,
   "metadata": {
    "collapsed": true
   },
   "outputs": [],
   "source": [
    "#bloque 4\n",
    "\n",
    "def mse_loss(x, y, w):\n",
    "    \"\"\"\n",
    "    Calcula el costo de acuerdo al criterio de MSE (mean square error) asumiendo un conjunto de datos\n",
    "    x, con una salida y, y una hipótesis lineal parametrizada por omega\n",
    "    \n",
    "    @param x: Un ndarray de dimension (T, n + 1)\n",
    "    @param y: Un ndarray de dimensión (T, 1)\n",
    "    @param w: Un ndarray de dimensión (n + 1, 1)\n",
    "    \n",
    "    @return: Un número real con el costo\n",
    "    \"\"\"\n",
    "    T, n = x.shape[0], x.shape[1] - 1\n",
    "    \n",
    "    # Puedes hacerlo directamente en forma matricial\n",
    "    error = (x.dot(w)-y)**2\n",
    "        \n",
    "    return np.sum(error)/(2*T)\n",
    "    \n"
   ]
  },
  {
   "cell_type": "markdown",
   "metadata": {},
   "source": [
    "y para probar si está bien el programa, si calculamos $Loss(y, \\hat{y})$ para $\\omega = (0, 0)^T$ debe de dar (para este conjunto de datos) **32.07**."
   ]
  },
  {
   "cell_type": "code",
   "execution_count": null,
   "metadata": {},
   "outputs": [],
   "source": [
    "#bloque 5\n",
    "\n",
    "w = np.zeros([n + 1, 1])\n",
    "print(\"x, \",x.shape)\n",
    "print(\"La pérdida es {}\".format(mse_loss(x, y, w)))"
   ]
  },
  {
   "cell_type": "markdown",
   "metadata": {},
   "source": [
    "Muy bien, ya podemos calcular el criterio a optimizar (la función de pérdida). Vamos entonces a utilizar la función que acabamos de hacer para ver sus valores para diferentes valores de $\\omega$."
   ]
  },
  {
   "cell_type": "code",
   "execution_count": null,
   "metadata": {},
   "outputs": [],
   "source": [
    "#bloque 6\n",
    "\n",
    "# Definimos una función que depende solo de omega0 y omega1\n",
    "def costo_w(w0, w1):\n",
    "    return mse_loss(x, y, np.array([[w0], [w1]]))\n",
    "\n",
    "# Y ahora la convertimos en una función tipo numpy (aplica para cualquier entrada de ndarrays)\n",
    "costo_vect = np.frompyfunc(costo_w, 2, 1)\n",
    "\n",
    "#Ahora generamos la lista de valores para graficar\n",
    "w0 = np.linspace(-10, 10, 100);\n",
    "w1 = np.linspace(-1, 4, 100);\n",
    "\n",
    "# Y los convertimos en matrices utilizando la función meshgrid\n",
    "w0, w1 = np.meshgrid(w0, w1)\n",
    "\n",
    "# Y calculamos los costos para cada par de theta0 y theta 1 con nuestra nueva funcion de costos vectorizada\n",
    "J = costo_vect(w0, w1)\n",
    "\n",
    "# Y graficamos el contorno\n",
    "plt.contour(w0, w1, J, 80, linewidths=0.5, colors='k')\n",
    "plt.contourf(w0, w1, J, 80, cmap=plt.cm.rainbow, vmax=J.max(), vmin=J.min())\n",
    "plt.colorbar()\n",
    "plt.xlabel(r\"$\\omega_0$\")\n",
    "plt.ylabel(r\"$\\omega_1$\")\n",
    "plt.title(r\"Función de pérdida\")\n",
    "        "
   ]
  },
  {
   "cell_type": "markdown",
   "metadata": {},
   "source": [
    "Ahora si, ya tenemos todo para hacer nuestra función para encontrar la $\\omega$ óptima (que como se puede ver en la superficie debería de estar por donde $\\omega_0$ vale entre 0 y -5 y $\\omega_1$ entre 1 y 2). \n",
    "\n",
    "**Desarrolla la función con descenso de gradiente.**"
   ]
  },
  {
   "cell_type": "code",
   "execution_count": null,
   "metadata": {
    "collapsed": true
   },
   "outputs": [],
   "source": [
    "#bloque 7\n",
    "\n",
    "def descenso_gradiente_lotes(x, y, w_ini, epsilon, num_iter):\n",
    "    \"\"\"\n",
    "    Descenso de gradiente durante num_iter iteraciones para regresión lineal\n",
    "    \n",
    "    @param x: ndarray de dimension [T, n + 1] con los datos de entrada\n",
    "    @param y: ndarray de dimension [T, 1] con los datos de salida\n",
    "    @param w_ini: ndarray de dimension [n + 1, T] con los parametros iniciales\n",
    "    @param epsilon: flotante con tamaño de paso o tasa de aprendizaje.\n",
    "    @param num_iter: numero de iteraciones (entero)\n",
    "    \n",
    "    @return: w, costo_iter donde w es un ndarray de la dimansión de w_ini con la w final, \n",
    "             mientras que costo_hist es un ndarray de dimensión [num_iter, 1] con el costo en cada iteración.\n",
    "    \n",
    "    \"\"\"\n",
    "    w = w_ini.copy()\n",
    "    mse_iter = np.zeros(num_iter)\n",
    "    \n",
    "    T, n = x.shape[0], x.shape[1] - 1\n",
    "    \n",
    "    for iter in range(num_iter):\n",
    "        # Aqui igualmente se puede hacer por cada dato o en forma matricial\n",
    "        # por favor intenta hacerlo en forma matricial, que es la forma \n",
    "        # eficiente de hacerlo\n",
    "        \n",
    "        y_est = x.dot(w)\n",
    "        w = w + epsilon*x.T.dot(y-y_est)/T\n",
    "        \n",
    "        mse_iter[iter] = mse_loss(x, y, w)\n",
    "    return w, mse_iter\n",
    "     "
   ]
  },
  {
   "cell_type": "markdown",
   "metadata": {},
   "source": [
    "Y para saber si el algoritmo se programó bien, se puede probar en el problema del *food truck* y revisar si el valor de la función de pérdida se va reduciendo hasta estabilizarse en un mínimo."
   ]
  },
  {
   "cell_type": "code",
   "execution_count": null,
   "metadata": {},
   "outputs": [],
   "source": [
    "#bloque 8\n",
    "\n",
    "w_ini = np.zeros((n + 1, 1))\n",
    "\n",
    "iteraciones = 1500\n",
    "epsilon = 0.005\n",
    "\n",
    "w_final, mse_historial = descenso_gradiente_lotes(x, y, w_ini, epsilon, iteraciones)\n",
    "\n",
    "#theta_n = ecuacion_normal(x, y)\n",
    "\n",
    "#print(w_dg)\n",
    "\n",
    "#print(u\"w con ecuación normal: \")\n",
    "#print(w_n)\n",
    "\n",
    "#plt.plot(costos, 'b')\n",
    "#plt.title(u'MSE por iteración')\n",
    "#plt.xlabel(u'iteración')\n",
    "#plt.ylabel(r'$Loss(y, \\hat{y})$')"
   ]
  },
  {
   "cell_type": "markdown",
   "metadata": {},
   "source": [
    "Ahora vamos a revisar visualmente si la estimación es una linea recta que pasa entre todos los puntos.\n",
    "\n",
    "**Completa los pasos para realizar la estimación.**"
   ]
  },
  {
   "cell_type": "code",
   "execution_count": null,
   "metadata": {},
   "outputs": [],
   "source": [
    "#bloque 9\n",
    "\n",
    "x_estimar = np.array([4,24]).reshape(-1,1)\n",
    "print(x_estimar.shape)\n",
    "print(w_final.shape)\n",
    "y_estimado=np.zeros((x_estimar.shape))\n",
    "\n",
    "y_estimado[0,0] = w_final[0,0] + w_final[1,0]*x_estimar[0,0]  \n",
    "y_estimado[1,0] = w_final[0,0] + w_final[1,0]*x_estimar[1,0]\n",
    "\n",
    "print(\"Los valores estimados son: {}\".format(y_estimado))"
   ]
  },
  {
   "cell_type": "markdown",
   "metadata": {},
   "source": [
    "Si los valores que obtuviste son cercanos a 1 (10000 dolares) y 24.3 (243000 dolares) entonces estamos en los valores esperados. Ahora vamos a usar estos valores para graficar los datos reales y la estimación realizada:"
   ]
  },
  {
   "cell_type": "code",
   "execution_count": null,
   "metadata": {},
   "outputs": [],
   "source": [
    "#bloque 10\n",
    "\n",
    "plt.plot(x[:,1], y, 'xr')\n",
    "plt.plot(x_estimar[:,0], y_estimado, '-b')\n",
    "plt.title(u'Ganancias anuales de una carreta de acuerdo al tamaño de una ciudad')\n",
    "plt.xlabel(r\"Poblaci$\\'o$n ($\\times 10^4$ habitantes)\")\n",
    "plt.ylabel(r'Beneficios ($\\times 10^4$ dolares)')"
   ]
  },
  {
   "cell_type": "markdown",
   "metadata": {},
   "source": [
    "**Felicidades** Acabas de terminar el primer algoritmo de aprendizaje (y el más usado en el mundo)."
   ]
  },
  {
   "cell_type": "markdown",
   "metadata": {},
   "source": [
    "# 2. Un ejemplo en múltiples dimensiones\n",
    "\n",
    "Como el algortimo realizado ya funciona para muchas dimensiones, no se espera tener mucho problema para utilizarlos. Así que ahora vamos a cargar datos y vamos a graficar la salida respecto a dos variables"
   ]
  },
  {
   "cell_type": "code",
   "execution_count": 64,
   "metadata": {},
   "outputs": [
    {
     "data": {
      "text/plain": [
       "<matplotlib.text.Text at 0x219b63e1048>"
      ]
     },
     "execution_count": 64,
     "metadata": {},
     "output_type": "execute_result"
    },
    {
     "data": {
      "image/png": "[encoded data removed]",
      "text/plain": [
       "<matplotlib.figure.Figure at 0x219b635e1d0>"
      ]
     },
     "metadata": {},
     "output_type": "display_data"
    },
    {
     "data": {
      "image/png": "[encoded data removed]",
      "text/plain": [
       "<matplotlib.figure.Figure at 0x219b6079828>"
      ]
     },
     "metadata": {},
     "output_type": "display_data"
    }
   ],
   "source": [
    "#bloque 11\n",
    "\n",
    "datos = np.loadtxt('datos/casas_portland.txt', comments='%', delimiter=',')\n",
    "x, y = datos[:, :-1], datos[:,-1:] \n",
    "\n",
    "# T es el número de instancias y n el de atributos\n",
    "T, n = x.shape\n",
    "#print(x.shape,y.shape, w.shape)\n",
    "plt.plot(x[:,0], y, 'rx')\n",
    "plt.title(u'Costo de una casa en relación a su tamaño')\n",
    "plt.xlabel(u\"tamaño (pies cuadrados)\")\n",
    "plt.ylabel('costo ')\n",
    "\n",
    "plt.figure()\n",
    "plt.plot(x[:,1], y, 'rx')\n",
    "plt.title(u'Costo de una casa en relación al número de cuartos')\n",
    "plt.xlabel(\"cuartos\")\n",
    "\n"
   ]
  },
  {
   "cell_type": "markdown",
   "metadata": {},
   "source": [
    "Antes de realizar el aprendizaje podemos ver que mientras una de las variables se mide en miles de pies cuadrados, la otra variable tiene valores de 1 a 4. Esto es un problema para el algoritmo del descenso de gradiente, por lo que es necesario normalizar los datos (solo para este algoritmo) y que funcione de manera correcta. \n",
    "\n",
    "Para normalizar requerimos de dos pasos, por un lado, obtener los valores de medias y desviaciones estandares por atributo, y en segundo lugar, realizar la normalización. Los valores de medias y desviaciones estandares hay que guardarlos, ya que serán necesarios para poder normalizar los datos que se quiera estimar.\n",
    "\n",
    "**Escribe la función que devuelve los valores de medias t desviaciones estandares.**"
   ]
  },
  {
   "cell_type": "code",
   "execution_count": 65,
   "metadata": {},
   "outputs": [
    {
     "name": "stdout",
     "output_type": "stream",
     "text": [
      "Los datos son: \n",
      "[[  1 300]\n",
      " [  3 100]\n",
      " [  2 400]\n",
      " [  4 200]]\n",
      "Las medias son: \n",
      "[[   2.5  250. ]]\n",
      "Las desviaciones son: \n",
      "[[   1.11803399  111.80339887]]\n",
      "Los datos normalizados son: \n",
      "[[-1.34164079  0.4472136 ]\n",
      " [ 0.4472136  -1.34164079]\n",
      " [-0.4472136   1.34164079]\n",
      " [ 1.34164079 -0.4472136 ]]\n"
     ]
    }
   ],
   "source": [
    "#bloque 12\n",
    "\n",
    "def obtiene_medias_desviaciones(x):\n",
    "    \"\"\"\n",
    "    Obtiene las medias y las desviaciones estandar atributo a atributo.\n",
    "    \n",
    "    @param x: un ndarray de dimensión (T, n) donde T es el número de elementos y n el número de atributos\n",
    "    \n",
    "    @return: medias, desviaciones donde ambos son ndarrays de dimensiones (n,) con las medias y las desviaciones \n",
    "             estandar respectivamente.\n",
    "    \n",
    "    \"\"\"\n",
    "    # Escribe aqui el código\n",
    "    \n",
    "    # T es el número de instancias y n el de atributos\n",
    "    T, n = x.shape\n",
    "        \n",
    "    medias = np.zeros((1,n))\n",
    "    desviaciones = np.zeros((1,n))    \n",
    "    for i in range(n):\n",
    "        medias[0,i] = x[:,i].mean()\n",
    "        desviaciones[0,i] = x[:,i].std()\n",
    "    \n",
    "    return medias, desviaciones\n",
    "# -----------------------------------------------------------------------------------------------------------------\n",
    "def normaliza(x, medias, desviaciones):\n",
    "    \"\"\"\n",
    "    Normaliza los datos x\n",
    "\n",
    "    @param x: un ndarray de dimensión (T, n) donde T es el númro de elementos y n el número de atributos\n",
    "    @param medias: ndarray de dimensiones (n,) con las medias con las que se normalizará\n",
    "    @param desviaciones: ndarray de dimensiones (n,) con las desviaciones con las que se normalizará\n",
    "    \n",
    "    @return: x_norm un ndarray de las mismas dimensiones de x pero normalizado\n",
    "    \n",
    "    \"\"\"\n",
    "    return (x - medias) / desviaciones\n",
    "# -----------------------------------------------------------------------------------------------------------------        \n",
    "\n",
    "# Y ahora vamos a hacer algo muy simple para probar, que pueden corroborar con el uso de una calculadora común.\n",
    "x_prueba = np.array([[1, 300],\n",
    "                    [3, 100],\n",
    "                    [2, 400],\n",
    "                    [4, 200]])\n",
    "m, d = obtiene_medias_desviaciones(x_prueba)\n",
    "\n",
    "print(\"Los datos son: \\n{}\".format(x_prueba))\n",
    "print(\"Las medias son: \\n{}\".format(m))\n",
    "print(\"Las desviaciones son: \\n{}\".format(d))\n",
    "print(\"Los datos normalizados son: \\n{}\".format(normaliza(x_prueba, m, d)))\n"
   ]
  },
  {
   "cell_type": "markdown",
   "metadata": {},
   "source": [
    "Listo, entonces ya podemos hacer descenso de gradiente, o casi. El problema es que no sabemos cual sería el mejor valor para $\\epsilon$. Escoge el valor de $\\epsilon$ realizando una gráfica de 50 iteraciones solamente para valores desde 0.001, 0.005, 0.01, 0.05, 0.1, 0.5, ... y decide cual de los valores es el que más te conviene.\n",
    "\n",
    "**Selecciona un valor, especifica aquí cual es, y justifica porque lo seleccionaste.**"
   ]
  },
  {
   "cell_type": "code",
   "execution_count": 66,
   "metadata": {},
   "outputs": [
    {
     "data": {
      "text/plain": [
       "<matplotlib.text.Text at 0x219b65120f0>"
      ]
     },
     "execution_count": 66,
     "metadata": {},
     "output_type": "execute_result"
    },
    {
     "data": {
      "image/png": "[encoded data removed]",
      "text/plain": [
       "<matplotlib.figure.Figure at 0x219b60fa278>"
      ]
     },
     "metadata": {},
     "output_type": "display_data"
    },
    {
     "data": {
      "image/png": "[encoded data removed]",
      "text/plain": [
       "<matplotlib.figure.Figure at 0x219b64eed30>"
      ]
     },
     "metadata": {},
     "output_type": "display_data"
    }
   ],
   "source": [
    "#bloque 13\n",
    "\n",
    "medias, desviaciones = obtiene_medias_desviaciones(x)\n",
    "\n",
    "x_norm = np.c_[np.ones((T, 1)), normaliza(x, medias, desviaciones)]\n",
    "\n",
    "w_ini = np.zeros((n + 1, 1))\n",
    "num_iters = 50\n",
    "# ------------------------------------------------\n",
    "epsilon = 0.25  # Aqui es donde hay que hacer las pruebas\n",
    "\n",
    "w, mse_hist = descenso_gradiente_lotes(x_norm, y, w_ini, epsilon, num_iters)\n",
    "plt.figure()\n",
    "plt.plot(mse_hist, '-b')\n",
    "plt.title(r\"La curva de aprendizaje para $\\epsilon =$ \" + str(epsilon))\n",
    "\n",
    "plt.xlabel('iteraciones')\n",
    "plt.ylabel('MSE')\n",
    "# ------------------------------------------------\n",
    "epsilon = 0.5  # Aqui es donde hay que hacer las pruebas\n",
    "\n",
    "w, mse_hist = descenso_gradiente_lotes(x_norm, y, w_ini, epsilon, num_iters)\n",
    "plt.figure()\n",
    "plt.plot(mse_hist, '-b')\n",
    "plt.title(r\"La curva de aprendizaje para $\\epsilon =$ \" + str(epsilon))\n",
    "plt.xlabel('iteraciones')\n",
    "plt.ylabel('MSE')\n",
    "\n"
   ]
  },
  {
   "cell_type": "markdown",
   "metadata": {},
   "source": [
    "**Utilizando todo el número de iteraciones necesarias, encuentra el valor de $\\omega$ utilizando el descenso de gradiente.**"
   ]
  },
  {
   "cell_type": "code",
   "execution_count": 67,
   "metadata": {},
   "outputs": [
    {
     "name": "stdout",
     "output_type": "stream",
     "text": [
      "[[ 340412.65957447]\n",
      " [ 109447.79646964]\n",
      " [  -6578.35485416]]\n"
     ]
    }
   ],
   "source": [
    "#bloque 14\n",
    "\n",
    "epsilon = 0.5\n",
    "num_iters = 500\n",
    "w, mse_hist = descenso_gradiente_lotes(x_norm, y, w_ini, epsilon, num_iters)\n",
    "print(w) "
   ]
  },
  {
   "cell_type": "markdown",
   "metadata": {},
   "source": [
    "**Obten el valor de una casa de 1650 pies cuadrados y 3 recamaras con las thetas obtenidas con el  algoritmo.**"
   ]
  },
  {
   "cell_type": "code",
   "execution_count": 68,
   "metadata": {},
   "outputs": [
    {
     "name": "stdout",
     "output_type": "stream",
     "text": [
      "valor de la casa =  [[ 293081.4643349]]\n"
     ]
    }
   ],
   "source": [
    "#bloque 15\n",
    "\n",
    "x = np.zeros((1,2))\n",
    "x[0,0] = 1650\n",
    "x[0,1] = 3\n",
    "\n",
    "x_norm = np.c_[np.ones((1, 1)), normaliza(x, medias, desviaciones)]\n",
    "\n",
    "y_est = x_norm.dot(w) # aqui uso el w obtenido en la funcion descenso_gradicente_lotes()\n",
    "print(\"valor de la casa = \",y_est)\n"
   ]
  },
  {
   "cell_type": "code",
   "execution_count": null,
   "metadata": {
    "collapsed": true
   },
   "outputs": [],
   "source": []
  }
 ],
 "metadata": {
  "kernelspec": {
   "display_name": "Python 3",
   "language": "python",
   "name": "python3"
  },
  "language_info": {
   "codemirror_mode": {
    "name": "ipython",
    "version": 3
   },
   "file_extension": ".py",
   "mimetype": "text/x-python",
   "name": "python",
   "nbconvert_exporter": "python",
   "pygments_lexer": "ipython3",
   "version": "3.6.1"
  }
 },
 "nbformat": 4,
 "nbformat_minor": 1
}
