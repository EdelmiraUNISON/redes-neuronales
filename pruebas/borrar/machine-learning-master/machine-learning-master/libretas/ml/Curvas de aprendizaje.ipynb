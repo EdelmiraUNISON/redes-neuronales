{
 "cells": [
  {
   "cell_type": "markdown",
   "metadata": {},
   "source": [
    "# Curvas de aprendizaje"
   ]
  },
  {
   "cell_type": "markdown",
   "metadata": {},
   "source": [
    "En esta libreta vamos a revisar las curvas de aprendizaje para dos clasificadores diferentes (Naive Bayes y SVM lineal) par el clasico conjunto de clasificación de dígitos escritos a mano. Basado en [este ejemplo](http://scikit-learn.org/stable/auto_examples/model_selection/plot_learning_curve.html) de la documentación de Scikit-learn."
   ]
  },
  {
   "cell_type": "code",
   "execution_count": null,
   "metadata": {
    "collapsed": false
   },
   "outputs": [],
   "source": [
    "import numpy as np\n",
    "import matplotlib.pyplot as plt\n",
    "\n",
    "# Validación cruzada\n",
    "from sklearn import cross_validation\n",
    "\n",
    "# Los clasificadores\n",
    "from sklearn.naive_bayes import GaussianNB\n",
    "from sklearn.svm import SVC\n",
    "\n",
    "#Los datos\n",
    "from sklearn.datasets import load_digits\n",
    "\n",
    "# Para hacer curvas de aprendizaje\n",
    "from sklearn.learning_curve import learning_curve\n",
    "\n",
    "# Para hacer curvas de validación\n",
    "from sklearn.learning_curve import validation_curve\n",
    "\n",
    "plt.rcParams['figure.figsize'] = (30, 20)\n",
    "plt.style.use('ggplot')\n",
    "%matplotlib inline\n"
   ]
  },
  {
   "cell_type": "markdown",
   "metadata": {},
   "source": [
    "## 1. Vamos a ver ejemplos del conjunto de datos"
   ]
  },
  {
   "cell_type": "code",
   "execution_count": null,
   "metadata": {
    "collapsed": false
   },
   "outputs": [],
   "source": [
    "digits = load_digits()\n",
    "X, y = digits.data, digits.target\n",
    "\n",
    "figure = plt.figure(figsize=(10, 10))\n",
    "for index, (image, label) in enumerate(zip(digits.images, digits.target)[:16]):\n",
    "    plt.subplot(4, 4, index + 1)\n",
    "    plt.axis('off')\n",
    "    plt.imshow(image, cmap=plt.cm.gray_r, interpolation='nearest')\n",
    "    plt.title('Este es un %i' % label)\n"
   ]
  },
  {
   "cell_type": "markdown",
   "metadata": {},
   "source": [
    "## 2. Vamos a guardar una función para hacer las curvas de aprendizaje"
   ]
  },
  {
   "cell_type": "code",
   "execution_count": null,
   "metadata": {
    "collapsed": true
   },
   "outputs": [],
   "source": [
    "def plot_learning_curve(estimator, title, X, y, ylim=None, cv=None,\n",
    "                        n_jobs=1, train_sizes=np.linspace(.1, 1.0, 10)):\n",
    "    \"\"\"\n",
    "    Generate a simple plot of the test and traning learning curve.\n",
    "\n",
    "    Parameters\n",
    "    ----------\n",
    "    estimator : object type that implements the \"fit\" and \"predict\" methods\n",
    "        An object of that type which is cloned for each validation.\n",
    "\n",
    "    title : string\n",
    "        Title for the chart.\n",
    "\n",
    "    X : array-like, shape (n_samples, n_features)\n",
    "        Training vector, where n_samples is the number of samples and\n",
    "        n_features is the number of features.\n",
    "\n",
    "    y : array-like, shape (n_samples) or (n_samples, n_features), optional\n",
    "        Target relative to X for classification or regression;\n",
    "        None for unsupervised learning.\n",
    "\n",
    "    ylim : tuple, shape (ymin, ymax), optional\n",
    "        Defines minimum and maximum yvalues plotted.\n",
    "\n",
    "    cv : integer, cross-validation generator, optional\n",
    "        If an integer is passed, it is the number of folds (defaults to 3).\n",
    "        Specific cross-validation objects can be passed, see\n",
    "        sklearn.cross_validation module for the list of possible objects\n",
    "\n",
    "    n_jobs : integer, optional\n",
    "        Number of jobs to run in parallel (default 1).\n",
    "    \"\"\"\n",
    "    plt.figure()\n",
    "    plt.title(title)\n",
    "    if ylim is not None:\n",
    "        plt.ylim(*ylim)\n",
    "    plt.xlabel(\"Training examples\")\n",
    "    plt.ylabel(\"Score\")\n",
    "    \n",
    "    ####################################################################\n",
    "    train_sizes, train_scores, test_scores = learning_curve(\n",
    "        estimator, X, y, cv=cv, n_jobs=n_jobs, train_sizes=train_sizes)\n",
    "    ####################################################################\n",
    "    \n",
    "    train_scores_mean = np.mean(train_scores, axis=1)\n",
    "    train_scores_std = np.std(train_scores, axis=1)\n",
    "    test_scores_mean = np.mean(test_scores, axis=1)\n",
    "    test_scores_std = np.std(test_scores, axis=1)\n",
    "\n",
    "    plt.fill_between(train_sizes, train_scores_mean - train_scores_std,\n",
    "                     train_scores_mean + train_scores_std, alpha=0.1,\n",
    "                     color=\"r\")\n",
    "    plt.fill_between(train_sizes, test_scores_mean - test_scores_std,\n",
    "                     test_scores_mean + test_scores_std, alpha=0.1, color=\"g\")\n",
    "    plt.plot(train_sizes, train_scores_mean, 'o-', color=\"r\",\n",
    "             label=\"Training score\")\n",
    "    plt.plot(train_sizes, test_scores_mean, 'o-', color=\"g\",\n",
    "             label=\"Cross-validation score\")\n",
    "\n",
    "    plt.legend(loc=\"best\")\n",
    "    return plt\n"
   ]
  },
  {
   "cell_type": "markdown",
   "metadata": {},
   "source": [
    "## 3. Aplica las curvas de aprendizaje con Naive bayes"
   ]
  },
  {
   "cell_type": "code",
   "execution_count": null,
   "metadata": {
    "collapsed": false
   },
   "outputs": [],
   "source": [
    "# Validación cruzada con 100 folders (20 por ciento de datos de validación)\n",
    "cv = cross_validation.ShuffleSplit(digits.data.shape[0], n_iter=100,\n",
    "                                   test_size=0.2, random_state=0)\n",
    "\n",
    "clf = GaussianNB()\n",
    "plot_learning_curve(clf, \"Curva de aprendizaje (Naive Bayes)\", \n",
    "                    X, y, ylim=(0.7, 1.01), cv=cv, n_jobs=4)\n"
   ]
  },
  {
   "cell_type": "markdown",
   "metadata": {},
   "source": [
    "## 4. Curvas de aprendizaje con la máquina de vectores de soporte"
   ]
  },
  {
   "cell_type": "code",
   "execution_count": null,
   "metadata": {
    "collapsed": false
   },
   "outputs": [],
   "source": [
    "# Validación cruzada de 10 folders\n",
    "cv = cross_validation.ShuffleSplit(digits.data.shape[0], n_iter=10,\n",
    "                                   test_size=0.2, random_state=0)\n",
    "\n",
    "clf = SVC(gamma=0.001)\n",
    "plot_learning_curve(clf, \"Curva de aprendizaje (SVM, kernel RBF, $\\gamma=0.001$)\", \n",
    "                    X, y, (0.7, 1.01), cv=cv, n_jobs=4)\n"
   ]
  },
  {
   "cell_type": "markdown",
   "metadata": {},
   "source": [
    "## 5. Y ahora vemos que pasa conforme variamos $\\gamma$ en nuestra SVM"
   ]
  },
  {
   "cell_type": "code",
   "execution_count": null,
   "metadata": {
    "collapsed": false
   },
   "outputs": [],
   "source": [
    "\n",
    "# Los valores que le vamos a dar a \\gamma\n",
    "param_range = np.logspace(-6, -1, 5)\n",
    "\n",
    "# La curva de validación con 10 fold-cross-validation\n",
    "train_scores, test_scores = validation_curve(\n",
    "    SVC(), X, y, \n",
    "    param_name=\"gamma\", param_range=param_range,\n",
    "    cv=10, scoring=\"accuracy\", n_jobs=1)\n",
    "\n",
    "train_scores_mean = np.mean(train_scores, axis=1)\n",
    "train_scores_std = np.std(train_scores, axis=1)\n",
    "\n",
    "test_scores_mean = np.mean(test_scores, axis=1)\n",
    "test_scores_std = np.std(test_scores, axis=1)\n",
    "\n",
    "\n",
    "# Grafica los resultados de entrenamiento\n",
    "plt.semilogx(param_range, train_scores_mean, \n",
    "             label=\"Entrenamiento\", color=\"r\")\n",
    "\n",
    "plt.fill_between(param_range, \n",
    "                 train_scores_mean - train_scores_std,\n",
    "                 train_scores_mean + train_scores_std, \n",
    "                 alpha=0.2, color=\"r\")\n",
    "\n",
    "# Grafica los resultados de validación\n",
    "plt.semilogx(param_range, test_scores_mean, \n",
    "             label=u\"Validación cruzada\", color=\"g\")\n",
    "\n",
    "plt.fill_between(param_range, \n",
    "                 test_scores_mean - test_scores_std,\n",
    "                 test_scores_mean + test_scores_std, \n",
    "                 alpha=0.2, color=\"g\")\n",
    "\n",
    "plt.title(u\"Curva de validación de SVM al variar $\\gamma$\")\n",
    "plt.xlabel(\"$\\gamma$\")\n",
    "plt.ylabel(u\"Precisión\")\n",
    "plt.legend(loc=\"best\")\n",
    "plt.ylim(0.0, 1.1)\n"
   ]
  }
 ],
 "metadata": {
  "kernelspec": {
   "display_name": "Python 2",
   "language": "python",
   "name": "python2"
  },
  "language_info": {
   "codemirror_mode": {
    "name": "ipython",
    "version": 2
   },
   "file_extension": ".py",
   "mimetype": "text/x-python",
   "name": "python",
   "nbconvert_exporter": "python",
   "pygments_lexer": "ipython2",
   "version": "2.7.11"
  }
 },
 "nbformat": 4,
 "nbformat_minor": 0
}
