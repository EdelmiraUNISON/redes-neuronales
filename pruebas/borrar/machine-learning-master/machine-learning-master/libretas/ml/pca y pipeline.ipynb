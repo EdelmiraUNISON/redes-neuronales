{
 "cells": [
  {
   "cell_type": "markdown",
   "metadata": {},
   "source": [
    "# Análisis en componentes principales y automatización de tareas"
   ]
  },
  {
   "cell_type": "markdown",
   "metadata": {},
   "source": [
    "En esta libreta vamos a ver como se define un proceso completo de clasificación (incluyendo varios pasos) y lo vamos a utilizar para ejemplificar el uso del análisis en componentes principales"
   ]
  },
  {
   "cell_type": "code",
   "execution_count": 8,
   "metadata": {
    "collapsed": false
   },
   "outputs": [],
   "source": [
    "import numpy as np\n",
    "import matplotlib.pyplot as plt\n",
    "\n",
    "# El clasificador a usar\n",
    "from sklearn import linear_model\n",
    "\n",
    "# El método de PCA\n",
    "from sklearn import decomposition \n",
    "\n",
    "# El conjunto de datos de ejemplo\n",
    "from sklearn import datasets\n",
    "\n",
    "# Para hacer varios pasos en secuencia\n",
    "from sklearn.pipeline import Pipeline\n",
    "\n",
    "# Para encontrar el mejor valor de un parámetro\n",
    "from sklearn.grid_search import GridSearchCV\n",
    "\n",
    "%matplotlib inline\n",
    "\n",
    "plt.rcParams['figure.figsize'] = (15, 5)\n",
    "plt.style.use('ggplot')\n"
   ]
  },
  {
   "cell_type": "markdown",
   "metadata": {},
   "source": [
    "## 1. Define el pipeline"
   ]
  },
  {
   "cell_type": "code",
   "execution_count": 4,
   "metadata": {
    "collapsed": true
   },
   "outputs": [],
   "source": [
    "# El tratamiento de los datos por PCA\n",
    "pca = decomposition.PCA()\n",
    "\n",
    "# El clasificador, por regresión logística\n",
    "logistic = linear_model.LogisticRegression()\n",
    "\n",
    "# Siempre que se haga entrenamiento o predicción, hay que\n",
    "# aplicar pca primero y logistic después\n",
    "\n",
    "pipe = Pipeline(steps=[('pca', pca), ('logistic', logistic)])\n",
    "\n",
    "# Ahora, este pipeline, le vamos a agregar que cuando se entrene,\n",
    "# pueda variar los valores de el número de componentes principales\n",
    "# del PCA y el valor del factor de regularización de la regresión \n",
    "# logística\n",
    "\n",
    "# Escoge los valores en que se van a probar ambos parámetros\n",
    "n_components = [20, 40, 64]\n",
    "Cs = np.logspace(-4, 4, 3)\n",
    "\n",
    "# Aplica la optimización de parámetros\n",
    "estimator = GridSearchCV(pipe,\n",
    "                         dict(pca__n_components= n_components,\n",
    "                              logistic__C= Cs))\n"
   ]
  },
  {
   "cell_type": "markdown",
   "metadata": {},
   "source": [
    "## 2. Encuentra los mejores parámetros para PCA y regresión logística"
   ]
  },
  {
   "cell_type": "code",
   "execution_count": 6,
   "metadata": {
    "collapsed": false
   },
   "outputs": [
    {
     "name": "stdout",
     "output_type": "stream",
     "text": [
      "El mejor valor de regularización es:  1.0\n",
      "El número óptimo de componentes principales es:  40\n"
     ]
    }
   ],
   "source": [
    "# Carga los datos\n",
    "digits = datasets.load_digits()\n",
    "X, y = digits.data, digits.target\n",
    "\n",
    "estimator.fit(X, y)\n",
    "\n",
    "print \"El mejor valor de regularización es: \", estimator.best_estimator_.named_steps['logistic'].C\n",
    "print \"El número óptimo de componentes principales es: \", estimator.best_estimator_.named_steps['pca'].n_components"
   ]
  },
  {
   "cell_type": "markdown",
   "metadata": {},
   "source": [
    "## 3. Muestra la varianza explicada por cada componente principal"
   ]
  },
  {
   "cell_type": "code",
   "execution_count": 11,
   "metadata": {
    "collapsed": false
   },
   "outputs": [
    {
     "data": {
      "text/plain": [
       "<matplotlib.text.Text at 0x114d4d990>"
      ]
     },
     "execution_count": 11,
     "metadata": {},
     "output_type": "execute_result"
    },
    {
     "data": {
      "image/png": "[encoded data removed]",
      "text/plain": [
       "<matplotlib.figure.Figure at 0x10ac8dd50>"
      ]
     },
     "metadata": {},
     "output_type": "display_data"
    }
   ],
   "source": [
    "pca.fit(X)\n",
    "\n",
    "plt.clf()\n",
    "plt.axes([.2, .2, .7, .7])\n",
    "plt.plot(pca.explained_variance_, linewidth=2)\n",
    "plt.axis('tight')\n",
    "plt.xlabel('n_components')\n",
    "plt.ylabel('explained_variance_')"
   ]
  }
 ],
 "metadata": {
  "kernelspec": {
   "display_name": "Python 2",
   "language": "python",
   "name": "python2"
  },
  "language_info": {
   "codemirror_mode": {
    "name": "ipython",
    "version": 2
   },
   "file_extension": ".py",
   "mimetype": "text/x-python",
   "name": "python",
   "nbconvert_exporter": "python",
   "pygments_lexer": "ipython2",
   "version": "2.7.11"
  }
 },
 "nbformat": 4,
 "nbformat_minor": 0
}
